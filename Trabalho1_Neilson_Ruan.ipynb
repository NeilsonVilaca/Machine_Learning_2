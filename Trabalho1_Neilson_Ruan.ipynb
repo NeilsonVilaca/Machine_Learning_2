{
  "nbformat": 4,
  "nbformat_minor": 0,
  "metadata": {
    "colab": {
      "name": "Trabalho1_Neilson_Ruan.ipynb",
      "provenance": [],
      "collapsed_sections": [],
      "include_colab_link": true
    },
    "kernelspec": {
      "name": "python3",
      "display_name": "Python 3"
    },
    "language_info": {
      "name": "python"
    }
  },
  "cells": [
    {
      "cell_type": "markdown",
      "metadata": {
        "id": "view-in-github",
        "colab_type": "text"
      },
      "source": [
        "<a href=\"https://colab.research.google.com/github/NeilsonVilaca/Machine_Learning_2/blob/master/Trabalho1_Neilson_Ruan.ipynb\" target=\"_parent\"><img src=\"https://colab.research.google.com/assets/colab-badge.svg\" alt=\"Open In Colab\"/></a>"
      ]
    },
    {
      "cell_type": "markdown",
      "metadata": {
        "id": "decU1J_9kSmb"
      },
      "source": [
        "IMPORTING LIBRARIES AND DATA"
      ]
    },
    {
      "cell_type": "code",
      "metadata": {
        "id": "i34Pxtg1__Dr"
      },
      "source": [
        "!pip install -q xlrd\n",
        "import pandas as pd\n",
        "import numpy as np\n",
        "data = pd.read_excel('/content/hospital.xls')\n"
      ],
      "execution_count": 14,
      "outputs": []
    },
    {
      "cell_type": "markdown",
      "metadata": {
        "id": "c3_7ynGDmlgx"
      },
      "source": [
        "CONVERTING TO NUMERIC PARAMETERS"
      ]
    },
    {
      "cell_type": "code",
      "metadata": {
        "id": "svtOYrYxa3gs"
      },
      "source": [
        "datax = data.drop(['ID','LastName','BloodPressure_2','Trials_1','Trials_2','Trials_3','Trials_4','BloodPressure_1'], axis=1)\n",
        "datax[\"Sex\"].replace({\"Male\": 1, \"Female\": 0}, inplace=True)\n",
        "datax[\"Smoker\"].replace({True: 1, False: 0}, inplace=True)"
      ],
      "execution_count": null,
      "outputs": []
    },
    {
      "cell_type": "markdown",
      "metadata": {
        "id": "qtwXFqjhmhYr"
      },
      "source": [
        "CONVERTING DATA TO LIST"
      ]
    },
    {
      "cell_type": "code",
      "metadata": {
        "id": "S9uOhVCjpO0r"
      },
      "source": [
        "data_matrix = datax.to_numpy()  \n",
        "one = np.ones((100,1),dtype=int)\n",
        "\n",
        "data_folders = np.append(data_array,one, axis=1)"
      ],
      "execution_count": 84,
      "outputs": []
    },
    {
      "cell_type": "markdown",
      "metadata": {
        "id": "51Mdu6DipSQT"
      },
      "source": [
        "CREATING FOLDERS"
      ]
    },
    {
      "cell_type": "code",
      "metadata": {
        "id": "8kkbfQjrpRGR"
      },
      "source": [
        "folder_1 = data_folders[0:80]\n",
        "folder_2 = np.concatenate([data_folders[0:60],data_folders[80:100]])\n",
        "folder_3 = np.concatenate([data_folders[0:40],data_folders[60:100]])\n",
        "folder_4 = np.concatenate([data_folders[0:20],data_folders[40:100]])\n",
        "folder_5 = data_folders[20:100]"
      ],
      "execution_count": null,
      "outputs": []
    },
    {
      "cell_type": "markdown",
      "metadata": {
        "id": "mltAvL3LxDLa"
      },
      "source": [
        "ORGANIZING OUTPUT DATA - SYSTOLIC"
      ]
    },
    {
      "cell_type": "code",
      "metadata": {
        "id": "680SZ8pAxCiy"
      },
      "source": [
        "sis = (np.array(data['BloodPressure_1']))\n",
        "\n",
        "sis_1 = np.atleast_2d(sis[0:80]).T\n",
        "sis_2 = np.atleast_2d(np.concatenate([sis[0:60],sis[80:100]])).T\n",
        "sis_3 = np.atleast_2d(np.concatenate([sis[0:40],sis[60:100]])).T\n",
        "sis_4 = np.atleast_2d(np.concatenate([sis[0:20],sis[40:100]])).T\n",
        "sis_5 = np.atleast_2d(sis[20:100]).T"
      ],
      "execution_count": 98,
      "outputs": []
    },
    {
      "cell_type": "markdown",
      "metadata": {
        "id": "Cdmt9rYm2mF3"
      },
      "source": [
        "ORGANIZING OUTPUT DATA - DIASTOLIC"
      ]
    },
    {
      "cell_type": "code",
      "metadata": {
        "id": "6oJRIdf53D_e"
      },
      "source": [
        "dis = (np.array(data['BloodPressure_2']))\n",
        "\n",
        "dis_1 = np.atleast_2d(dis[0:80]).T\n",
        "dis_2 = np.atleast_2d(np.concatenate([dis[0:60],dis[80:100]])).T\n",
        "dis_3 = np.atleast_2d(np.concatenate([dis[0:40],dis[60:100]])).T\n",
        "dis_4 = np.atleast_2d(np.concatenate([dis[0:20],dis[40:100]])).T\n",
        "dis_5 = np.atleast_2d(dis[20:100]).T"
      ],
      "execution_count": 99,
      "outputs": []
    },
    {
      "cell_type": "markdown",
      "metadata": {
        "id": "rTEwXbKu9h0U"
      },
      "source": [
        "ORGANIZING OUTPUT DATA FOR COMPARE"
      ]
    },
    {
      "cell_type": "code",
      "metadata": {
        "id": "y_JcwxuR9cPx"
      },
      "source": [
        "sis_1_expected = np.atleast_2d(sis[80:100]).T\n",
        "sis_2_expected = np.atleast_2d(sis[60:80]).T\n",
        "sis_3_expected = np.atleast_2d(sis[40:60]).T\n",
        "sis_4_expected = np.atleast_2d(sis[20:40]).T\n",
        "sis_5_expected = np.atleast_2d(sis[0:20]).T\n",
        "\n",
        "\n",
        "dis_1_expected = np.atleast_2d(dis[80:100]).T\n",
        "dis_2_expected = np.atleast_2d(dis[60:80]).T\n",
        "dis_3_expected = np.atleast_2d(dis[40:60]).T\n",
        "dis_4_expected = np.atleast_2d(dis[20:40]).T\n",
        "dis_5_expected = np.atleast_2d(dis[0:20]).T"
      ],
      "execution_count": null,
      "outputs": []
    },
    {
      "cell_type": "markdown",
      "metadata": {
        "id": "SLhn93U8qcKs"
      },
      "source": [
        "DATA TEST"
      ]
    },
    {
      "cell_type": "code",
      "metadata": {
        "id": "mKOtNYNDqP8P"
      },
      "source": [
        "test_1 = data_folders[80:100]\n",
        "test_2 = data_folders[60:80]\n",
        "test_3 = data_folders[40:60]\n",
        "test_4 = data_folders[20:40]\n",
        "test_5 = data_folders[0:20]"
      ],
      "execution_count": 74,
      "outputs": []
    },
    {
      "cell_type": "markdown",
      "metadata": {
        "id": "XXoz6QZ_6pUR"
      },
      "source": [
        "FIRST TRAINING AND PERFOMANCE"
      ]
    },
    {
      "cell_type": "code",
      "metadata": {
        "id": "BR63cZXP6w3Z"
      },
      "source": [
        "\"PSEUDO INVERSE\"\n",
        "X_pinv = np.linalg.pinv(folder_1)\n",
        "\n",
        "\"W\"\n",
        "ws1 = np.matmul(X_pinv,sis_1)\n",
        "wd1 = np.matmul(X_pinv,dis_1)\n",
        "\n",
        "\"OUTPUT TRAINING\"\n",
        "y_sis_1 = np.matmul(test_1,ws1)\n",
        "y_dis_1 = np.matmul(test_1,wd1)\n",
        "\n",
        "\"PERFORMANCE ANALYZING - MEAN SQUARED ERROR\"\n",
        "mse_sis_1 = np.square(np.subtract(sis_1_expected,y_sis_1)).mean()\n",
        "mse_dis_1 = np.square(np.subtract(dis_1_expected,y_dis_1)).mean()\n",
        "\n",
        "\"PERFORMANCE ANALYZING - PEARSON COEFFICIENT\"\n",
        "p_sis_1_m = np.corrcoef(sis_1_expected,y_sis_1, rowvar=False)\n",
        "p_sis_1 = p_sis_1_m[0][1]\n",
        "\n",
        "p_dis_1_m = np.corrcoef(dis_1_expected,y_dis_1, rowvar=False)\n",
        "p_dis_1 = p_dis_1_m[0][1]\n"
      ],
      "execution_count": null,
      "outputs": []
    }
  ]
}